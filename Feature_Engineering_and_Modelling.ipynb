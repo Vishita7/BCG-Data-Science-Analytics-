{
  "nbformat": 4,
  "nbformat_minor": 0,
  "metadata": {
    "colab": {
      "provenance": [],
      "authorship_tag": "ABX9TyOwscUS48Lc0pfW8Jbw8jdm",
      "include_colab_link": true
    },
    "kernelspec": {
      "name": "python3",
      "display_name": "Python 3"
    },
    "language_info": {
      "name": "python"
    }
  },
  "cells": [
    {
      "cell_type": "markdown",
      "metadata": {
        "id": "view-in-github",
        "colab_type": "text"
      },
      "source": [
        "<a href=\"https://colab.research.google.com/github/Vishita7/BCG-Data-Science-Analytics-/blob/main/Feature_Engineering_and_Modelling.ipynb\" target=\"_parent\"><img src=\"https://colab.research.google.com/assets/colab-badge.svg\" alt=\"Open In Colab\"/></a>"
      ]
    },
    {
      "cell_type": "code",
      "execution_count": 10,
      "metadata": {
        "id": "9sc7c29jk35M"
      },
      "outputs": [],
      "source": [
        "import pandas as pd\n",
        "import numpy as np\n",
        "import matplotlib.pyplot as plt\n",
        "import seaborn as sns\n",
        "\n",
        "# Load data\n",
        "client_data = pd.read_csv(\"/content/client_data.csv\")\n",
        "price_data = pd.read_csv(\"/content/price_data.csv\")\n"
      ]
    },
    {
      "cell_type": "code",
      "source": [
        "#\n"
      ],
      "metadata": {
        "colab": {
          "base_uri": "https://localhost:8080/"
        },
        "id": "6h-OMZTznVI4",
        "outputId": "0e272163-16e9-4c0c-93ab-2c430bcb4cb5"
      },
      "execution_count": 13,
      "outputs": [
        {
          "output_type": "stream",
          "name": "stderr",
          "text": [
            "<ipython-input-13-164891b80df9>:2: FutureWarning: Dropping of nuisance columns in DataFrame reductions (with 'numeric_only=None') is deprecated; in a future version this will raise TypeError.  Select only valid columns before calling the reduction.\n",
            "  price_data.fillna(price_data.median(), inplace=True)\n"
          ]
        }
      ]
    },
    {
      "cell_type": "code",
      "source": [
        "# Merge client_data and price_data\n",
        "data = client_data.merge(price_data, on='id', how='inner')"
      ],
      "metadata": {
        "id": "DWr9f503nZHq"
      },
      "execution_count": 28,
      "outputs": []
    },
    {
      "cell_type": "code",
      "source": [
        "# Get the median of the respective numeric columns from data\n",
        "numeric_columns = data.select_dtypes(include=np.number).columns\n",
        "data_medians = data[numeric_columns].median()\n",
        "\n",
        "# Fill NaN values in the data DataFrame using the median values from data for numeric columns only\n",
        "for column in numeric_columns:\n",
        "    data[column].fillna(data_medians[column], inplace=True)\n",
        "\n"
      ],
      "metadata": {
        "id": "-CwIMUPcn63A"
      },
      "execution_count": 30,
      "outputs": []
    },
    {
      "cell_type": "code",
      "source": [
        "d"
      ],
      "metadata": {
        "id": "b0QsJXucn5oS"
      },
      "execution_count": null,
      "outputs": []
    },
    {
      "cell_type": "code",
      "source": [
        "#the difference between off-peak prices in December and January the preceding year\n",
        "data['off_peak_price_diff'] = data['price_off_peak_var'].diff(periods=1)\n",
        "\n",
        "# Calculate the difference between peak and off-peak prices\n",
        "data['peak_off_peak_diff'] = data['price_peak_var'] - data['price_off_peak_var']\n",
        "\n",
        "# Calculate the rate of price change\n",
        "data['price_change_rate'] = data['price_off_peak_var'].pct_change()\n",
        "\n"
      ],
      "metadata": {
        "id": "DX8YGV-Jl4eY"
      },
      "execution_count": 31,
      "outputs": []
    },
    {
      "cell_type": "markdown",
      "source": [
        "##Modeling"
      ],
      "metadata": {
        "id": "oQvNEzhPmQqY"
      }
    },
    {
      "cell_type": "code",
      "source": [
        "from sklearn.ensemble import RandomForestClassifier\n",
        "from sklearn.model_selection import train_test_split\n",
        "from sklearn.metrics import accuracy_score, precision_score, recall_score, f1_score, roc_auc_score\n",
        "\n",
        "# Select features and target variable\n",
        "features = ['off_peak_price_diff', 'peak_off_peak_diff', 'price_change_rate']\n",
        "X = data[features]\n",
        "y = data['churn']\n",
        "\n",
        "# Replace infinity values with NaN\n",
        "X.replace([np.inf, -np.inf], np.nan, inplace=True)\n",
        "\n",
        "# Identify any columns in X that still have NaN values\n",
        "nan_columns = X.columns[X.isna().any()].tolist()\n",
        "\n",
        "# If any NaN values are found, fill them with the median values from the data DataFrame\n",
        "if len(nan_columns) > 0:\n",
        "    for column in nan_columns:\n",
        "        if np.issubdtype(data[column].dtype, np.number):\n",
        "            X[column].fillna(data[column].median(), inplace=True)\n",
        "\n",
        "\n",
        "# Split the data into training and testing sets\n",
        "X_train, X_test, y_train, y_test = train_test_split(X, y, test_size=0.3, random_state=42)\n",
        "\n",
        "# Train the Random Forest classifier\n",
        "clf = RandomForestClassifier(n_estimators=100, random_state=42)\n",
        "clf.fit(X_train, y_train)\n",
        "\n",
        "# Make predictions\n",
        "y_pred = clf.predict(X_test)\n"
      ],
      "metadata": {
        "colab": {
          "base_uri": "https://localhost:8080/"
        },
        "id": "jcSeFKhNmP1A",
        "outputId": "ea447188-78fa-43ce-d34c-41db1bef8d58"
      },
      "execution_count": 34,
      "outputs": [
        {
          "output_type": "stream",
          "name": "stderr",
          "text": [
            "<ipython-input-34-5c7cfc379795>:11: SettingWithCopyWarning: \n",
            "A value is trying to be set on a copy of a slice from a DataFrame\n",
            "\n",
            "See the caveats in the documentation: https://pandas.pydata.org/pandas-docs/stable/user_guide/indexing.html#returning-a-view-versus-a-copy\n",
            "  X.replace([np.inf, -np.inf], np.nan, inplace=True)\n",
            "<ipython-input-34-5c7cfc379795>:20: SettingWithCopyWarning: \n",
            "A value is trying to be set on a copy of a slice from a DataFrame\n",
            "\n",
            "See the caveats in the documentation: https://pandas.pydata.org/pandas-docs/stable/user_guide/indexing.html#returning-a-view-versus-a-copy\n",
            "  X[column].fillna(data[column].median(), inplace=True)\n",
            "<ipython-input-34-5c7cfc379795>:20: SettingWithCopyWarning: \n",
            "A value is trying to be set on a copy of a slice from a DataFrame\n",
            "\n",
            "See the caveats in the documentation: https://pandas.pydata.org/pandas-docs/stable/user_guide/indexing.html#returning-a-view-versus-a-copy\n",
            "  X[column].fillna(data[column].median(), inplace=True)\n"
          ]
        }
      ]
    },
    {
      "cell_type": "code",
      "source": [
        "# Calculate evaluation metrics\n",
        "accuracy = accuracy_score(y_test, y_pred)\n",
        "precision = precision_score(y_test, y_pred)\n",
        "recall = recall_score(y_test, y_pred)\n",
        "f1 = f1_score(y_test, y_pred)\n",
        "roc_auc = roc_auc_score(y_test, y_pred)\n",
        "\n",
        "print(f\"Accuracy: {accuracy}\")\n",
        "print(f\"Precision: {precision}\")\n",
        "print(f\"Recall: {recall}\")\n",
        "print(f\"F1-score: {f1}\")\n",
        "print(f\"ROC AUC: {roc_auc}\")\n"
      ],
      "metadata": {
        "colab": {
          "base_uri": "https://localhost:8080/"
        },
        "id": "PmMHcUjLmTvX",
        "outputId": "c86f44af-60ac-4803-c633-3c576f51f4dd"
      },
      "execution_count": 35,
      "outputs": [
        {
          "output_type": "stream",
          "name": "stdout",
          "text": [
            "Accuracy: 0.9000475782662479\n",
            "Precision: 0.25\n",
            "Recall: 0.01672569854388036\n",
            "F1-score: 0.031353744005901886\n",
            "ROC AUC: 0.5056765462569601\n"
          ]
        }
      ]
    },
    {
      "cell_type": "markdown",
      "source": [
        "1. The model underperformed in identifying the minority class (churned customers). The low recall and F1-score indicate that the model is not able to capture the positive instances well.\n",
        "\n",
        "2. The evaluation metrics chosen were accuracy, precision, recall, F1-score, and ROC AUC. Accuracy was chosen to give an overall sense of model performance, but it can be misleading in imbalanced datasets. Precision and recall were chosen to provide insight into the model's performance specifically on the minority class (churned customers), which is the main focus of the business problem. F1-score is a balanced metric that combines both precision and recall, providing a single value to assess the model's performance for the minority class. ROC AUC is chosen to measure the model's ability to distinguish between the two classes, with a value closer to 1 indicating better performance.\n",
        "\n",
        "3. Advantages of using Random Forest for this use case include its ability to handle large datasets, work well with categorical and numerical features, and provide feature importance. Disadvantages include the potential for overfitting, longer training time for large datasets, and the need for hyperparameter tuning to achieve optimal performance.\n",
        "\n",
        "4. The model performance is not satisfactory, as indicated by the low recall, F1-score, and ROC AUC. These metrics suggest that the model struggles to identify churned customers, which is the primary objective of the business problem. Improvements are needed to address class imbalance or to tune hyperparameters for better performance.\n",
        "\n",
        "\n",
        "\n",
        "\n"
      ],
      "metadata": {
        "id": "subjH879uG_G"
      }
    },
    {
      "cell_type": "code",
      "source": [
        "from sklearn.metrics import confusion_matrix\n",
        "import seaborn as sns\n",
        "import matplotlib.pyplot as plt\n",
        "\n",
        "cm = confusion_matrix(y_test, y_pred)\n",
        "sns.heatmap(cm, annot=True, fmt='d', cmap='Blues')\n",
        "plt.xlabel('Predicted')\n",
        "plt.ylabel('Actual')\n",
        "plt.show()"
      ],
      "metadata": {
        "colab": {
          "base_uri": "https://localhost:8080/",
          "height": 279
        },
        "id": "9nHmtL2RrqDM",
        "outputId": "1f7b9a8b-d16b-4fa3-b4ef-108e2fd4f6a4"
      },
      "execution_count": 36,
      "outputs": [
        {
          "output_type": "display_data",
          "data": {
            "text/plain": [
              "<Figure size 432x288 with 2 Axes>"
            ],
            "image/png": "[encoded data removed]"
          },
          "metadata": {
            "needs_background": "light"
          }
        }
      ]
    },
    {
      "cell_type": "markdown",
      "source": [
        "## Feature Importance and Hyper parameter Tuning"
      ],
      "metadata": {
        "id": "t3Hik9M9wZLc"
      }
    },
    {
      "cell_type": "code",
      "source": [
        "#Analyze the feature importance:\n",
        "import pandas as pd\n",
        "\n",
        "feature_importance = pd.DataFrame({\"Feature\": X.columns, \"Importance\": clf.feature_importances_})\n",
        "feature_importance = feature_importance.sort_values(\"Importance\", ascending=False)\n",
        "\n",
        "print(feature_importance)\n"
      ],
      "metadata": {
        "colab": {
          "base_uri": "https://localhost:8080/"
        },
        "id": "t6yn344vrteV",
        "outputId": "80949a3d-11d0-4cf2-ef17-2be82f6a9400"
      },
      "execution_count": 37,
      "outputs": [
        {
          "output_type": "stream",
          "name": "stdout",
          "text": [
            "               Feature  Importance\n",
            "1   peak_off_peak_diff    0.356589\n",
            "2    price_change_rate    0.346523\n",
            "0  off_peak_price_diff    0.296888\n"
          ]
        }
      ]
    },
    {
      "cell_type": "code",
      "source": [
        "#Hyperparameter tuning using GridSearchCV:\n",
        "from sklearn.model_selection import GridSearchCV\n",
        "\n",
        "param_grid = {\n",
        "    \"n_estimators\": [50, 100],\n",
        "    \"max_depth\": [None, 10],\n",
        "    \"min_samples_split\": [2, 5],\n",
        "    \"min_samples_leaf\": [1, 2]\n",
        "}\n",
        "\n",
        "grid_search = GridSearchCV(estimator=clf, param_grid=param_grid, cv=2, n_jobs=-1)\n",
        "grid_search.fit(X_train, y_train)\n",
        "\n",
        "best_rf = grid_search.best_estimator_\n",
        "print(\"Best parameters found:\", grid_search.best_params_)\n"
      ],
      "metadata": {
        "colab": {
          "base_uri": "https://localhost:8080/"
        },
        "id": "HqAt-TcqswU9",
        "outputId": "6d51cf4f-667a-4d7b-b88a-2ad4e749bd38"
      },
      "execution_count": 45,
      "outputs": [
        {
          "output_type": "stream",
          "name": "stdout",
          "text": [
            "Best parameters found: {'max_depth': 10, 'min_samples_leaf': 1, 'min_samples_split': 2, 'n_estimators': 100}\n"
          ]
        }
      ]
    },
    {
      "cell_type": "code",
      "source": [
        "#the performance of the tuned Random Forest classifier\n",
        "y_pred_tuned = best_rf.predict(X_test)\n",
        "\n",
        "accuracy_tuned = accuracy_score(y_test, y_pred_tuned)\n",
        "precision_tuned = precision_score(y_test, y_pred_tuned)\n",
        "recall_tuned = recall_score(y_test, y_pred_tuned)\n",
        "f1_tuned = f1_score(y_test, y_pred_tuned)\n",
        "\n",
        "print(f\"Accuracy (tuned): {accuracy_tuned}\")\n",
        "print(f\"Precision (tuned): {precision_tuned}\")\n",
        "print(f\"Recall (tuned): {recall_tuned}\")\n",
        "print(f\"F1-score (tuned): {f1_tuned}\")\n"
      ],
      "metadata": {
        "colab": {
          "base_uri": "https://localhost:8080/"
        },
        "id": "Nequ6vlAs16l",
        "outputId": "82db1b35-ef5d-4a94-f29d-1d2a65a20ae6"
      },
      "execution_count": 48,
      "outputs": [
        {
          "output_type": "stream",
          "name": "stdout",
          "text": [
            "Accuracy (tuned): 0.9032258064516129\n",
            "Precision (tuned): 0.4482758620689655\n",
            "Recall (tuned): 0.0025580480125934673\n",
            "F1-score (tuned): 0.005087067110154568\n"
          ]
        }
      ]
    },
    {
      "cell_type": "markdown",
      "source": [
        "##the model's performance to the client's financial performance and the effect of a 20% discount on customers with a high propensity to churn"
      ],
      "metadata": {
        "id": "4pBoPnoktX6s"
      }
    },
    {
      "cell_type": "code",
      "source": [
        "# Predict churn probabilities\n",
        "y_prob = best_rf.predict_proba(X_test)[:, 1]\n",
        "\n",
        "# Set a threshold for high propensity to churn\n",
        "threshold = 0.8\n",
        "\n",
        "# Identify high-churn-risk customers\n",
        "high_risk_customers = (y_prob >= threshold).sum()\n",
        "\n",
        "# Assume the average revenue per customer\n",
        "average_revenue = 1000\n",
        "\n",
        "# Calculate potential revenue loss without discounting strategy\n",
        "potential_loss = high_risk_customers * average_revenue\n",
        "\n",
        "# Calculate the cost of the 20% discount strategy\n",
        "discount_percentage = 0.2\n",
        "discount_cost = high_risk_customers * average_revenue * discount_percentage\n",
        "\n",
        "# Calculate the expected retained revenue with the discount strategy (assuming a retention rate of 50%)\n",
        "retention_rate = 0.5\n",
        "retained_revenue = high_risk_customers * average_revenue * discount_percentage * retention_rate\n",
        "\n",
        "# Calculate the net savings\n",
        "net_savings = potential_loss - discount_cost - retained_revenue\n",
        "\n",
        "print(f\"Potential revenue loss without discounting strategy: {potential_loss}\")\n",
        "print(f\"Cost of the 20% discount strategy: {discount_cost}\")\n",
        "print(f\"Expected retained revenue with the discount strategy: {retained_revenue}\")\n",
        "print(f\"Net savings: {net_savings}\")\n"
      ],
      "metadata": {
        "colab": {
          "base_uri": "https://localhost:8080/"
        },
        "id": "eid1U0GHs8JN",
        "outputId": "23680337-e0e2-4ad3-8068-0f139e1cdd18"
      },
      "execution_count": 49,
      "outputs": [
        {
          "output_type": "stream",
          "name": "stdout",
          "text": [
            "Potential revenue loss without discounting strategy: 0\n",
            "Cost of the 20% discount strategy: 0.0\n",
            "Expected retained revenue with the discount strategy: 0.0\n",
            "Net savings: 0.0\n"
          ]
        }
      ]
    },
    {
      "cell_type": "code",
      "source": [],
      "metadata": {
        "id": "kiSOtfhOs7_x"
      },
      "execution_count": null,
      "outputs": []
    }
  ]
}